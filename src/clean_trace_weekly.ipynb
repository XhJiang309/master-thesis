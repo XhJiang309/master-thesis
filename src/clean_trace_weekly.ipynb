{
 "cells": [
  {
   "cell_type": "code",
   "execution_count": 29,
   "id": "b7826a80-a51d-42e0-9140-118d340ac4f5",
   "metadata": {},
   "outputs": [],
   "source": [
    "import pandas as pd\n",
    "from google.cloud import storage"
   ]
  },
  {
   "cell_type": "markdown",
   "id": "40ae44f5-c723-484b-840b-5addeae323d8",
   "metadata": {
    "jp-MarkdownHeadingCollapsed": true,
    "tags": []
   },
   "source": [
    "# Trace Data Loading and Preprocessing"
   ]
  },
  {
   "cell_type": "code",
   "execution_count": 30,
   "id": "0bd21f27-bef6-492a-b020-6669deeb8fe2",
   "metadata": {},
   "outputs": [],
   "source": [
    "bucket_name = \"trace_data_ic\"\n",
    "\n",
    "storage_client = storage.Client()\n",
    "bucket = storage_client.get_bucket(bucket_name)\n"
   ]
  },
  {
   "cell_type": "code",
   "execution_count": 31,
   "id": "1b6be6a3-d306-4486-844b-53ab52ee6afc",
   "metadata": {},
   "outputs": [],
   "source": [
    "\n",
    "# blobs = bucket.list_blobs()\n",
    "\n",
    "# for blob in blobs:\n",
    "#     file_name = blob.name\n",
    "#     print(file_name)\n",
    "#     if file_name == \"mergent_final_6k.pkl\" or file_name == \"trace_6k_bonds.gz\" :\n",
    "#         blob.download_to_filename(file_name) # download the file to the machine\n",
    "    "
   ]
  },
  {
   "cell_type": "code",
   "execution_count": 32,
   "id": "153ca5c5-fdf6-4df2-b948-017c5e0fb5f0",
   "metadata": {},
   "outputs": [
    {
     "name": "stdout",
     "output_type": "stream",
     "text": [
      "Index(['cusip_id', 'bond_sym_id', 'company_symbol', 'trd_exctn_dt',\n",
      "       'trd_exctn_tm', 'trd_rpt_dt', 'trd_rpt_tm', 'msg_seq_nb', 'trc_st',\n",
      "       'entrd_vol_qt', 'rptd_pr', 'yld_pt', 'asof_cd', 'rpt_side_cd',\n",
      "       'orig_msg_seq_nb', 'sub_prdct'],\n",
      "      dtype='object')\n",
      "Chunk: 1\n",
      "Chunk: 2\n",
      "Chunk: 3\n",
      "Chunk: 4\n",
      "Chunk: 5\n",
      "Chunk: 6\n"
     ]
    },
    {
     "data": {
      "text/plain": [
       "(58022788, 16)"
      ]
     },
     "execution_count": 32,
     "metadata": {},
     "output_type": "execute_result"
    }
   ],
   "source": [
    "# Loading the data into chunks of 10 Mil rows for processing\n",
    "chunk_size = 10000000\n",
    "\n",
    "# Initialize an empty DataFrame to store the final result\n",
    "data_raw = pd.DataFrame()\n",
    "i = 0 \n",
    "\n",
    "# The file downloaded from WRDS on the basis of the CUSIP IDs from Mergent FISD Data\n",
    "file = \"trace_6k_bonds.gz\"\n",
    "# Load the CSV file into a DataFrame in chunks and process each chunk individually\n",
    "for chunk in pd.read_csv(file, header=0, compression=\"gzip\", chunksize=chunk_size):\n",
    "        i+=1\n",
    "        if i == 1:\n",
    "            print(chunk.columns)\n",
    "        print(\"Chunk:\",i)\n",
    "        # Concatenate the processed chunk with the existing data\n",
    "        data_raw = pd.concat([data_raw, chunk], ignore_index=True)\n",
    "\n",
    "# Reset the index of the concatenated DataFrame\n",
    "data_raw.reset_index(drop=True, inplace=True)\n",
    "data_raw.shape"
   ]
  },
  {
   "cell_type": "code",
   "execution_count": 33,
   "id": "cfba279e-20be-4366-afea-f9b5660af90e",
   "metadata": {},
   "outputs": [
    {
     "data": {
      "text/plain": [
       "6005"
      ]
     },
     "execution_count": 33,
     "metadata": {},
     "output_type": "execute_result"
    }
   ],
   "source": [
    "data_raw['cusip_id'].nunique()"
   ]
  },
  {
   "cell_type": "code",
   "execution_count": 34,
   "id": "5bbea94f-3ed9-4eb3-927a-5cb9f20026c1",
   "metadata": {},
   "outputs": [
    {
     "name": "stdout",
     "output_type": "stream",
     "text": [
      "<class 'pandas.core.frame.DataFrame'>\n",
      "RangeIndex: 58022788 entries, 0 to 58022787\n",
      "Data columns (total 16 columns):\n",
      " #   Column           Dtype  \n",
      "---  ------           -----  \n",
      " 0   cusip_id         object \n",
      " 1   bond_sym_id      object \n",
      " 2   company_symbol   object \n",
      " 3   trd_exctn_dt     object \n",
      " 4   trd_exctn_tm     object \n",
      " 5   trd_rpt_dt       object \n",
      " 6   trd_rpt_tm       object \n",
      " 7   msg_seq_nb       int64  \n",
      " 8   trc_st           object \n",
      " 9   entrd_vol_qt     float64\n",
      " 10  rptd_pr          float64\n",
      " 11  yld_pt           float64\n",
      " 12  asof_cd          object \n",
      " 13  rpt_side_cd      object \n",
      " 14  orig_msg_seq_nb  float64\n",
      " 15  sub_prdct        object \n",
      "dtypes: float64(4), int64(1), object(11)\n",
      "memory usage: 6.9+ GB\n"
     ]
    }
   ],
   "source": [
    "data_raw.info()"
   ]
  },
  {
   "cell_type": "code",
   "execution_count": 35,
   "id": "ecc8092f-62e7-42da-b225-4461e264a78e",
   "metadata": {},
   "outputs": [
    {
     "data": {
      "text/plain": [
       "(6087, 64)"
      ]
     },
     "execution_count": 35,
     "metadata": {},
     "output_type": "execute_result"
    }
   ],
   "source": [
    "mergent_data = pd.read_pickle(\"mergent_final_6k.pkl\")\n",
    "mergent_data.shape"
   ]
  },
  {
   "cell_type": "code",
   "execution_count": 36,
   "id": "275c766c-d80d-446a-a60e-8691266e300d",
   "metadata": {},
   "outputs": [
    {
     "data": {
      "text/plain": [
       "Index(['issue_id', 'issuer_id', 'prospectus_issuer_name', 'issuer_cusip',\n",
       "       'issue_cusip', 'issue_name', 'maturity', 'security_level',\n",
       "       'enhancement', 'coupon_type', 'mtn', 'asset_backed', 'yankee',\n",
       "       'canadian', 'oid', 'slob', 'issue_offered_global', 'settlement_type',\n",
       "       'gross_spread', 'selling_concession', 'comp_neg_exch_deal',\n",
       "       'rule_415_reg', 'sec_reg_type1', 'offering_amt', 'offering_date',\n",
       "       'offering_price', 'offering_yield', 'delivery_date', 'unit_deal',\n",
       "       'form_of_own', 'denomination', 'principal_amt', 'covenants', 'defeased',\n",
       "       'defaulted', 'tender_exch_offer', 'redeemable', 'refund_protection',\n",
       "       'overallotment_opt', 'announced_call', 'active_issue',\n",
       "       'dep_eligibility', 'bond_type', 'subsequent_data', 'isin', 'fungible',\n",
       "       'complete_cusip', 'action_type', 'effective_date', 'action_price',\n",
       "       'action_amount', 'amount_outstanding', 'greater_of', 'lesser_of',\n",
       "       'see_note', 'dated_date', 'first_interest_date', 'interest_frequency',\n",
       "       'coupon', 'pay_in_kind', 'coupon_change_indicator', 'day_count_basis',\n",
       "       'last_interest_date', 'years_to_maturity'],\n",
       "      dtype='object')"
      ]
     },
     "execution_count": 36,
     "metadata": {},
     "output_type": "execute_result"
    }
   ],
   "source": [
    "mergent_data.columns"
   ]
  },
  {
   "cell_type": "code",
   "execution_count": 37,
   "id": "bc49252d-c673-4972-83c8-38c15f0dbfc6",
   "metadata": {},
   "outputs": [],
   "source": [
    "# Filtering the necessary Bond characteristics from the Mergent Data\n",
    "\n",
    "bond_info = mergent_data[[\n",
    "        'maturity', 'coupon_type', 'offering_amt', 'offering_date',\n",
    "       'offering_price', 'offering_yield', 'delivery_date', 'principal_amt', \n",
    "        'bond_type','complete_cusip', 'coupon','years_to_maturity']]"
   ]
  },
  {
   "cell_type": "code",
   "execution_count": 38,
   "id": "fd732390-df3f-4b63-9ada-a7811c9cfcb3",
   "metadata": {},
   "outputs": [
    {
     "data": {
      "text/plain": [
       "(6087, 12)"
      ]
     },
     "execution_count": 38,
     "metadata": {},
     "output_type": "execute_result"
    }
   ],
   "source": [
    "bond_info.shape"
   ]
  },
  {
   "cell_type": "code",
   "execution_count": 39,
   "id": "beb01302-398c-4de6-b11b-53db1f05f198",
   "metadata": {},
   "outputs": [
    {
     "data": {
      "text/plain": [
       "(58022788, 28)"
      ]
     },
     "execution_count": 39,
     "metadata": {},
     "output_type": "execute_result"
    }
   ],
   "source": [
    "# Merge the trace data and mergent data based on the 'cusip_id' column\n",
    "merged_df = pd.merge(data_raw, bond_info,left_on='cusip_id', right_on='complete_cusip', how='inner')\n",
    "merged_df.shape"
   ]
  },
  {
   "cell_type": "code",
   "execution_count": 40,
   "id": "f655404a-023c-4a0e-b121-9a7913b543e7",
   "metadata": {},
   "outputs": [
    {
     "data": {
      "text/plain": [
       "6005"
      ]
     },
     "execution_count": 40,
     "metadata": {},
     "output_type": "execute_result"
    }
   ],
   "source": [
    "merged_df['cusip_id'].nunique()"
   ]
  },
  {
   "cell_type": "code",
   "execution_count": 41,
   "id": "64c9115e-c56d-4126-b3af-462667d9057a",
   "metadata": {},
   "outputs": [
    {
     "data": {
      "text/plain": [
       "CDEB    58022788\n",
       "Name: bond_type, dtype: int64"
      ]
     },
     "execution_count": 41,
     "metadata": {},
     "output_type": "execute_result"
    }
   ],
   "source": [
    "merged_df['bond_type'].value_counts()"
   ]
  },
  {
   "cell_type": "code",
   "execution_count": 42,
   "id": "2de92652-c668-41d1-87e2-ac08bb89b1e2",
   "metadata": {},
   "outputs": [
    {
     "data": {
      "text/plain": [
       "6005"
      ]
     },
     "execution_count": 42,
     "metadata": {},
     "output_type": "execute_result"
    }
   ],
   "source": [
    "merged_df['cusip_id'].nunique()"
   ]
  },
  {
   "cell_type": "markdown",
   "id": "1914786e-32a5-47f0-a080-7c57569f8c9e",
   "metadata": {
    "jp-MarkdownHeadingCollapsed": true,
    "tags": []
   },
   "source": [
    "# Applying Filters by Dick N."
   ]
  },
  {
   "cell_type": "code",
   "execution_count": 43,
   "id": "3ac944d2-7be0-4208-bdf8-cecdd1efdb8e",
   "metadata": {},
   "outputs": [
    {
     "name": "stdout",
     "output_type": "stream",
     "text": [
      "Takes out all cancellations and corrections\n",
      "<class 'pandas.core.frame.DataFrame'>\n",
      "Int64Index: 767093 entries, 102 to 58022703\n",
      "Data columns (total 16 columns):\n",
      " #   Column           Non-Null Count   Dtype  \n",
      "---  ------           --------------   -----  \n",
      " 0   cusip_id         767093 non-null  object \n",
      " 1   bond_sym_id      766893 non-null  object \n",
      " 2   company_symbol   766893 non-null  object \n",
      " 3   trd_exctn_dt     767093 non-null  object \n",
      " 4   trd_exctn_tm     767093 non-null  object \n",
      " 5   trd_rpt_dt       767093 non-null  object \n",
      " 6   trd_rpt_tm       767093 non-null  object \n",
      " 7   msg_seq_nb       767093 non-null  int64  \n",
      " 8   trc_st           767093 non-null  object \n",
      " 9   entrd_vol_qt     767093 non-null  float64\n",
      " 10  rptd_pr          767093 non-null  float64\n",
      " 11  yld_pt           661138 non-null  float64\n",
      " 12  asof_cd          185601 non-null  object \n",
      " 13  rpt_side_cd      767093 non-null  object \n",
      " 14  orig_msg_seq_nb  28240 non-null   float64\n",
      " 15  sub_prdct        767093 non-null  object \n",
      "dtypes: float64(4), int64(1), object(11)\n",
      "memory usage: 99.5+ MB\n",
      "Reversals\n",
      "<class 'pandas.core.frame.DataFrame'>\n",
      "Int64Index: 14812 entries, 6705 to 57997445\n",
      "Data columns (total 16 columns):\n",
      " #   Column           Non-Null Count  Dtype  \n",
      "---  ------           --------------  -----  \n",
      " 0   cusip_id         14812 non-null  object \n",
      " 1   bond_sym_id      14812 non-null  object \n",
      " 2   company_symbol   14812 non-null  object \n",
      " 3   trd_exctn_dt     14812 non-null  object \n",
      " 4   trd_exctn_tm     14812 non-null  object \n",
      " 5   trd_rpt_dt       14812 non-null  object \n",
      " 6   trd_rpt_tm       14812 non-null  object \n",
      " 7   msg_seq_nb       14812 non-null  int64  \n",
      " 8   trc_st           14812 non-null  object \n",
      " 9   entrd_vol_qt     14812 non-null  float64\n",
      " 10  rptd_pr          14812 non-null  float64\n",
      " 11  yld_pt           14225 non-null  float64\n",
      " 12  asof_cd          14812 non-null  object \n",
      " 13  rpt_side_cd      14812 non-null  object \n",
      " 14  orig_msg_seq_nb  13801 non-null  float64\n",
      " 15  sub_prdct        14812 non-null  object \n",
      "dtypes: float64(4), int64(1), object(11)\n",
      "memory usage: 1.9+ MB\n",
      "The rest of the data\n",
      "<class 'pandas.core.frame.DataFrame'>\n",
      "Int64Index: 57240883 entries, 0 to 58022787\n",
      "Data columns (total 16 columns):\n",
      " #   Column           Dtype  \n",
      "---  ------           -----  \n",
      " 0   cusip_id         object \n",
      " 1   bond_sym_id      object \n",
      " 2   company_symbol   object \n",
      " 3   trd_exctn_dt     object \n",
      " 4   trd_exctn_tm     object \n",
      " 5   trd_rpt_dt       object \n",
      " 6   trd_rpt_tm       object \n",
      " 7   msg_seq_nb       int64  \n",
      " 8   trc_st           object \n",
      " 9   entrd_vol_qt     float64\n",
      " 10  rptd_pr          float64\n",
      " 11  yld_pt           float64\n",
      " 12  asof_cd          object \n",
      " 13  rpt_side_cd      object \n",
      " 14  orig_msg_seq_nb  float64\n",
      " 15  sub_prdct        object \n",
      "dtypes: float64(4), int64(1), object(11)\n",
      "memory usage: 7.3+ GB\n",
      "Deletes the reports that are matched by the reversals\n",
      "<class 'pandas.core.frame.DataFrame'>\n",
      "Int64Index: 56473882 entries, 0 to 56473881\n",
      "Data columns (total 16 columns):\n",
      " #   Column           Dtype  \n",
      "---  ------           -----  \n",
      " 0   cusip_id         object \n",
      " 1   bond_sym_id      object \n",
      " 2   company_symbol   object \n",
      " 3   trd_exctn_dt     object \n",
      " 4   trd_exctn_tm     object \n",
      " 5   trd_rpt_dt       object \n",
      " 6   trd_rpt_tm       object \n",
      " 7   msg_seq_nb       int64  \n",
      " 8   trc_st           object \n",
      " 9   entrd_vol_qt     float64\n",
      " 10  rptd_pr          float64\n",
      " 11  yld_pt           float64\n",
      " 12  asof_cd          object \n",
      " 13  rpt_side_cd      object \n",
      " 14  orig_msg_seq_nb  float64\n",
      " 15  sub_prdct        object \n",
      "dtypes: float64(4), int64(1), object(11)\n",
      "memory usage: 7.2+ GB\n"
     ]
    },
    {
     "data": {
      "text/plain": [
       "(56473882, 10)"
      ]
     },
     "execution_count": 43,
     "metadata": {},
     "output_type": "execute_result"
    }
   ],
   "source": [
    "# Start of the program\n",
    "\n",
    "# Takes out all cancellations and corrections;\n",
    "# These transactions should be deleted together with the\n",
    "# original report;\n",
    "print('Takes out all cancellations and corrections')\n",
    "temp_deleteI_NEW = data_raw[data_raw['trc_st'].isin(['C', 'X'])]\n",
    "temp_deleteI_NEW.info()\n",
    "\n",
    "# Reversals. These have to be deleted as well together with\n",
    "# the original report;\n",
    "print('Reversals')\n",
    "temp_deleteII_NEW = data_raw[data_raw['trc_st'].isin(['Y'])]\n",
    "temp_deleteII_NEW.info()\n",
    "\n",
    "# The rest of the data;\n",
    "print('The rest of the data')\n",
    "temp_raw = data_raw[~data_raw['trc_st'].isin(['C', 'X', 'Y'])]\n",
    "temp_raw.info()\n",
    "\n",
    "# Deletes the cancellations and corrections as identified by\n",
    "# the reports in temp_deleteI_NEW;\n",
    "# These transactions can be matched by message sequence number\n",
    "# and date. We furthermore match on cusip, volume, price, date,\n",
    "# time, buy-sell side, contra party;\n",
    "# This is as suggested by the variable description;\n",
    "\n",
    "cols_to_match = ['cusip_id', 'entrd_vol_qt', 'rptd_pr', 'trd_exctn_dt', 'trd_exctn_tm', 'rpt_side_cd', 'msg_seq_nb']\n",
    "temp_raw2 = temp_raw.merge(temp_deleteI_NEW[cols_to_match], on=cols_to_match, how='left', indicator=True)\n",
    "temp_raw2 = temp_raw2[temp_raw2['_merge'] == 'left_only'].drop('_merge', axis=1)\n",
    "print('Deletes the cancellations and corrections')\n",
    "temp_raw2.info()\n",
    "\n",
    "# Deletes the reports that are matched by the reversals;\n",
    "\n",
    "temp_raw3 = temp_raw2.merge(temp_deleteII_NEW[cols_to_match], on=cols_to_match, how='left', indicator=True)\n",
    "temp_raw3 = temp_raw3[temp_raw3['_merge'] == 'left_only'].drop('_merge', axis=1)\n",
    "print('Deletes the reports that are matched by the reversals')\n",
    "temp_raw3.info()\n",
    "\n",
    "# Ends the filtering of the post-change data\n",
    "# clean used columns of data\n",
    "\n",
    "temp_raw3_col = temp_raw3.drop(['asof_cd', 'trd_rpt_dt', 'trd_rpt_tm', 'msg_seq_nb', 'trc_st', 'orig_msg_seq_nb'], axis=1)\n",
    "\n",
    "\n",
    "temp_raw3_col.shape"
   ]
  },
  {
   "cell_type": "code",
   "execution_count": 44,
   "id": "f6aa34ef-3668-45b2-abab-87aec5a989f5",
   "metadata": {},
   "outputs": [
    {
     "data": {
      "text/plain": [
       "6004"
      ]
     },
     "execution_count": 44,
     "metadata": {},
     "output_type": "execute_result"
    }
   ],
   "source": [
    "temp_raw3_col['cusip_id'].nunique()"
   ]
  },
  {
   "cell_type": "code",
   "execution_count": 45,
   "id": "f0dd8fbf-4e3a-4168-b3dc-e02d60ad3614",
   "metadata": {},
   "outputs": [
    {
     "data": {
      "text/html": [
       "<div>\n",
       "<style scoped>\n",
       "    .dataframe tbody tr th:only-of-type {\n",
       "        vertical-align: middle;\n",
       "    }\n",
       "\n",
       "    .dataframe tbody tr th {\n",
       "        vertical-align: top;\n",
       "    }\n",
       "\n",
       "    .dataframe thead th {\n",
       "        text-align: right;\n",
       "    }\n",
       "</style>\n",
       "<table border=\"1\" class=\"dataframe\">\n",
       "  <thead>\n",
       "    <tr style=\"text-align: right;\">\n",
       "      <th></th>\n",
       "      <th>cusip_id</th>\n",
       "      <th>bond_sym_id</th>\n",
       "      <th>company_symbol</th>\n",
       "      <th>trd_exctn_dt</th>\n",
       "      <th>trd_exctn_tm</th>\n",
       "      <th>entrd_vol_qt</th>\n",
       "      <th>rptd_pr</th>\n",
       "      <th>yld_pt</th>\n",
       "      <th>rpt_side_cd</th>\n",
       "      <th>sub_prdct</th>\n",
       "    </tr>\n",
       "  </thead>\n",
       "  <tbody>\n",
       "    <tr>\n",
       "      <th>0</th>\n",
       "      <td>00217GAA1</td>\n",
       "      <td>NaN</td>\n",
       "      <td>NaN</td>\n",
       "      <td>2022-02-09</td>\n",
       "      <td>15:29:00</td>\n",
       "      <td>1000000.0</td>\n",
       "      <td>100.0</td>\n",
       "      <td>NaN</td>\n",
       "      <td>S</td>\n",
       "      <td>CORP</td>\n",
       "    </tr>\n",
       "    <tr>\n",
       "      <th>1</th>\n",
       "      <td>00217GAA1</td>\n",
       "      <td>NaN</td>\n",
       "      <td>NaN</td>\n",
       "      <td>2022-02-09</td>\n",
       "      <td>15:29:00</td>\n",
       "      <td>2000000.0</td>\n",
       "      <td>100.0</td>\n",
       "      <td>NaN</td>\n",
       "      <td>S</td>\n",
       "      <td>CORP</td>\n",
       "    </tr>\n",
       "    <tr>\n",
       "      <th>2</th>\n",
       "      <td>00217GAA1</td>\n",
       "      <td>NaN</td>\n",
       "      <td>NaN</td>\n",
       "      <td>2022-02-09</td>\n",
       "      <td>15:29:00</td>\n",
       "      <td>1000000.0</td>\n",
       "      <td>100.0</td>\n",
       "      <td>NaN</td>\n",
       "      <td>S</td>\n",
       "      <td>CORP</td>\n",
       "    </tr>\n",
       "    <tr>\n",
       "      <th>3</th>\n",
       "      <td>00217GAA1</td>\n",
       "      <td>NaN</td>\n",
       "      <td>NaN</td>\n",
       "      <td>2022-02-09</td>\n",
       "      <td>15:29:00</td>\n",
       "      <td>400000.0</td>\n",
       "      <td>100.0</td>\n",
       "      <td>NaN</td>\n",
       "      <td>S</td>\n",
       "      <td>CORP</td>\n",
       "    </tr>\n",
       "    <tr>\n",
       "      <th>4</th>\n",
       "      <td>00217GAA1</td>\n",
       "      <td>NaN</td>\n",
       "      <td>NaN</td>\n",
       "      <td>2022-02-09</td>\n",
       "      <td>15:29:00</td>\n",
       "      <td>1000000.0</td>\n",
       "      <td>100.0</td>\n",
       "      <td>NaN</td>\n",
       "      <td>S</td>\n",
       "      <td>CORP</td>\n",
       "    </tr>\n",
       "  </tbody>\n",
       "</table>\n",
       "</div>"
      ],
      "text/plain": [
       "    cusip_id bond_sym_id company_symbol trd_exctn_dt trd_exctn_tm  \\\n",
       "0  00217GAA1         NaN            NaN   2022-02-09     15:29:00   \n",
       "1  00217GAA1         NaN            NaN   2022-02-09     15:29:00   \n",
       "2  00217GAA1         NaN            NaN   2022-02-09     15:29:00   \n",
       "3  00217GAA1         NaN            NaN   2022-02-09     15:29:00   \n",
       "4  00217GAA1         NaN            NaN   2022-02-09     15:29:00   \n",
       "\n",
       "   entrd_vol_qt  rptd_pr  yld_pt rpt_side_cd sub_prdct  \n",
       "0     1000000.0    100.0     NaN           S      CORP  \n",
       "1     2000000.0    100.0     NaN           S      CORP  \n",
       "2     1000000.0    100.0     NaN           S      CORP  \n",
       "3      400000.0    100.0     NaN           S      CORP  \n",
       "4     1000000.0    100.0     NaN           S      CORP  "
      ]
     },
     "execution_count": 45,
     "metadata": {},
     "output_type": "execute_result"
    }
   ],
   "source": [
    "temp_raw3_col.head()"
   ]
  },
  {
   "cell_type": "code",
   "execution_count": 46,
   "id": "a1364b0b-31e4-40d3-a905-b2bfd8784c8e",
   "metadata": {},
   "outputs": [],
   "source": [
    "del temp_raw3"
   ]
  },
  {
   "cell_type": "code",
   "execution_count": 47,
   "id": "fdf3f776-fbc7-497a-9ee3-493bad0e3ca1",
   "metadata": {},
   "outputs": [],
   "source": [
    "del temp_raw2"
   ]
  },
  {
   "cell_type": "code",
   "execution_count": 48,
   "id": "c18c02bc-5311-4601-b601-b569324d4b58",
   "metadata": {},
   "outputs": [],
   "source": [
    "del temp_deleteII_NEW\n",
    "del temp_deleteI_NEW"
   ]
  },
  {
   "cell_type": "code",
   "execution_count": 49,
   "id": "d63cdd94-e8cc-46b1-8555-b62ca69b62bb",
   "metadata": {},
   "outputs": [],
   "source": [
    "del merged_df"
   ]
  },
  {
   "cell_type": "code",
   "execution_count": 50,
   "id": "bf7d6816-c573-47d8-a0e1-0492d17f495b",
   "metadata": {},
   "outputs": [],
   "source": [
    "del data_raw"
   ]
  },
  {
   "cell_type": "code",
   "execution_count": 51,
   "id": "60f5fb92-a54e-4b09-aead-5b4d0cd917e0",
   "metadata": {},
   "outputs": [],
   "source": [
    "del temp_raw"
   ]
  },
  {
   "cell_type": "code",
   "execution_count": 52,
   "id": "58e75554-2364-4cef-869d-c245919a36e9",
   "metadata": {},
   "outputs": [],
   "source": [
    "final_df = temp_raw3_col.copy()\n",
    "del temp_raw3_col"
   ]
  },
  {
   "cell_type": "code",
   "execution_count": 53,
   "id": "6d619372-ce8c-4459-8f98-c97b05322a8e",
   "metadata": {},
   "outputs": [
    {
     "data": {
      "text/plain": [
       "Index(['cusip_id', 'bond_sym_id', 'company_symbol', 'trd_exctn_dt',\n",
       "       'trd_exctn_tm', 'entrd_vol_qt', 'rptd_pr', 'yld_pt', 'rpt_side_cd',\n",
       "       'sub_prdct'],\n",
       "      dtype='object')"
      ]
     },
     "execution_count": 53,
     "metadata": {},
     "output_type": "execute_result"
    }
   ],
   "source": [
    "final_df.columns"
   ]
  },
  {
   "cell_type": "code",
   "execution_count": 54,
   "id": "5aa22c27-8f14-46d4-a013-fcfaded89906",
   "metadata": {},
   "outputs": [
    {
     "name": "stdout",
     "output_type": "stream",
     "text": [
      "cusip_id\n",
      "False    56473882\n",
      "Name: cusip_id, dtype: int64\n",
      "bond_sym_id\n",
      "False    56470031\n",
      "True         3851\n",
      "Name: bond_sym_id, dtype: int64\n",
      "company_symbol\n",
      "False    56470031\n",
      "True         3851\n",
      "Name: company_symbol, dtype: int64\n",
      "trd_exctn_dt\n",
      "False    56473882\n",
      "Name: trd_exctn_dt, dtype: int64\n",
      "trd_exctn_tm\n",
      "False    56473882\n",
      "Name: trd_exctn_tm, dtype: int64\n",
      "entrd_vol_qt\n",
      "False    56473882\n",
      "Name: entrd_vol_qt, dtype: int64\n",
      "rptd_pr\n",
      "False    56473882\n",
      "Name: rptd_pr, dtype: int64\n",
      "yld_pt\n",
      "False    52658829\n",
      "True      3815053\n",
      "Name: yld_pt, dtype: int64\n",
      "rpt_side_cd\n",
      "False    56473882\n",
      "Name: rpt_side_cd, dtype: int64\n",
      "sub_prdct\n",
      "False    56473882\n",
      "Name: sub_prdct, dtype: int64\n"
     ]
    }
   ],
   "source": [
    "for col in final_df:\n",
    "    print(col)\n",
    "    print(final_df[col].isna().value_counts())"
   ]
  },
  {
   "cell_type": "code",
   "execution_count": 55,
   "id": "46d9aaf2-b92b-4e42-8747-da1a25f5fd2d",
   "metadata": {},
   "outputs": [
    {
     "data": {
      "text/plain": [
       "(52658829, 10)"
      ]
     },
     "execution_count": 55,
     "metadata": {},
     "output_type": "execute_result"
    }
   ],
   "source": [
    "final_df = final_df[final_df['yld_pt'].notna()]\n",
    "final_df.shape"
   ]
  },
  {
   "cell_type": "code",
   "execution_count": 56,
   "id": "4a13465a-d467-464f-9f4d-cb9c20f31cfd",
   "metadata": {},
   "outputs": [
    {
     "data": {
      "text/plain": [
       "5228"
      ]
     },
     "execution_count": 56,
     "metadata": {},
     "output_type": "execute_result"
    }
   ],
   "source": [
    "final_df['cusip_id'].nunique()"
   ]
  },
  {
   "cell_type": "code",
   "execution_count": 57,
   "id": "46fd6a6e-3f09-4017-8bba-7f99982b3069",
   "metadata": {},
   "outputs": [],
   "source": [
    "final_df.to_csv(\"final_data_all_ver2.csv.gz\",compression='gzip',index=False)\n"
   ]
  },
  {
   "cell_type": "code",
   "execution_count": 59,
   "id": "d8ed6761-97de-456c-a05b-cf36d34ca9cb",
   "metadata": {},
   "outputs": [
    {
     "data": {
      "text/plain": [
       "(52658829, 10)"
      ]
     },
     "execution_count": 59,
     "metadata": {},
     "output_type": "execute_result"
    }
   ],
   "source": [
    "final_df.shape"
   ]
  },
  {
   "cell_type": "markdown",
   "id": "5322ec68-26c7-400c-a230-ad9d4fbb6e2e",
   "metadata": {
    "jp-MarkdownHeadingCollapsed": true,
    "tags": []
   },
   "source": [
    "# Trace Data Cleaned Weekly Frequency"
   ]
  },
  {
   "cell_type": "code",
   "execution_count": 21,
   "id": "56e49f4b-82ce-4543-a625-53863b189de0",
   "metadata": {},
   "outputs": [],
   "source": [
    "final_df['trd_exctn_dt'] = pd.to_datetime(final_df['trd_exctn_dt'])\n"
   ]
  },
  {
   "cell_type": "code",
   "execution_count": 22,
   "id": "db69abc2-3196-4eff-9e54-a98dafd94af0",
   "metadata": {},
   "outputs": [
    {
     "data": {
      "text/html": [
       "<div>\n",
       "<style scoped>\n",
       "    .dataframe tbody tr th:only-of-type {\n",
       "        vertical-align: middle;\n",
       "    }\n",
       "\n",
       "    .dataframe tbody tr th {\n",
       "        vertical-align: top;\n",
       "    }\n",
       "\n",
       "    .dataframe thead th {\n",
       "        text-align: right;\n",
       "    }\n",
       "</style>\n",
       "<table border=\"1\" class=\"dataframe\">\n",
       "  <thead>\n",
       "    <tr style=\"text-align: right;\">\n",
       "      <th></th>\n",
       "      <th>cusip_id</th>\n",
       "      <th>bond_sym_id</th>\n",
       "      <th>company_symbol</th>\n",
       "      <th>trd_exctn_dt</th>\n",
       "      <th>trd_exctn_tm</th>\n",
       "      <th>entrd_vol_qt</th>\n",
       "      <th>rptd_pr</th>\n",
       "      <th>yld_pt</th>\n",
       "      <th>rpt_side_cd</th>\n",
       "      <th>sub_prdct</th>\n",
       "    </tr>\n",
       "  </thead>\n",
       "  <tbody>\n",
       "    <tr>\n",
       "      <th>1422120</th>\n",
       "      <td>00037BAA0</td>\n",
       "      <td>ABB3852123</td>\n",
       "      <td>ABB</td>\n",
       "      <td>2012-10-01</td>\n",
       "      <td>15:26:58</td>\n",
       "      <td>625000.0</td>\n",
       "      <td>101.849</td>\n",
       "      <td>1.209968</td>\n",
       "      <td>S</td>\n",
       "      <td>CORP</td>\n",
       "    </tr>\n",
       "    <tr>\n",
       "      <th>1422119</th>\n",
       "      <td>00037BAA0</td>\n",
       "      <td>ABB3852123</td>\n",
       "      <td>ABB</td>\n",
       "      <td>2012-10-01</td>\n",
       "      <td>11:41:41</td>\n",
       "      <td>510000.0</td>\n",
       "      <td>101.727</td>\n",
       "      <td>1.237081</td>\n",
       "      <td>S</td>\n",
       "      <td>CORP</td>\n",
       "    </tr>\n",
       "    <tr>\n",
       "      <th>1422121</th>\n",
       "      <td>00037BAA0</td>\n",
       "      <td>ABB3852123</td>\n",
       "      <td>ABB</td>\n",
       "      <td>2012-10-01</td>\n",
       "      <td>16:02:48</td>\n",
       "      <td>350000.0</td>\n",
       "      <td>101.916</td>\n",
       "      <td>1.195093</td>\n",
       "      <td>S</td>\n",
       "      <td>CORP</td>\n",
       "    </tr>\n",
       "    <tr>\n",
       "      <th>1422118</th>\n",
       "      <td>00037BAA0</td>\n",
       "      <td>ABB3852123</td>\n",
       "      <td>ABB</td>\n",
       "      <td>2012-10-01</td>\n",
       "      <td>11:09:23</td>\n",
       "      <td>150000.0</td>\n",
       "      <td>101.795</td>\n",
       "      <td>1.221964</td>\n",
       "      <td>S</td>\n",
       "      <td>CORP</td>\n",
       "    </tr>\n",
       "    <tr>\n",
       "      <th>1422117</th>\n",
       "      <td>00037BAA0</td>\n",
       "      <td>ABB3852123</td>\n",
       "      <td>ABB</td>\n",
       "      <td>2012-10-01</td>\n",
       "      <td>5:38:16</td>\n",
       "      <td>15000.0</td>\n",
       "      <td>101.866</td>\n",
       "      <td>1.206192</td>\n",
       "      <td>S</td>\n",
       "      <td>CORP</td>\n",
       "    </tr>\n",
       "    <tr>\n",
       "      <th>...</th>\n",
       "      <td>...</td>\n",
       "      <td>...</td>\n",
       "      <td>...</td>\n",
       "      <td>...</td>\n",
       "      <td>...</td>\n",
       "      <td>...</td>\n",
       "      <td>...</td>\n",
       "      <td>...</td>\n",
       "      <td>...</td>\n",
       "      <td>...</td>\n",
       "    </tr>\n",
       "    <tr>\n",
       "      <th>3544653</th>\n",
       "      <td>983919AK7</td>\n",
       "      <td>AMD4987233</td>\n",
       "      <td>AMD</td>\n",
       "      <td>2022-09-29</td>\n",
       "      <td>13:55:48</td>\n",
       "      <td>219000.0</td>\n",
       "      <td>82.348</td>\n",
       "      <td>5.197043</td>\n",
       "      <td>S</td>\n",
       "      <td>CORP</td>\n",
       "    </tr>\n",
       "    <tr>\n",
       "      <th>3544654</th>\n",
       "      <td>983919AK7</td>\n",
       "      <td>AMD4987233</td>\n",
       "      <td>AMD</td>\n",
       "      <td>2022-09-29</td>\n",
       "      <td>14:06:05</td>\n",
       "      <td>35000.0</td>\n",
       "      <td>82.337</td>\n",
       "      <td>5.199009</td>\n",
       "      <td>S</td>\n",
       "      <td>CORP</td>\n",
       "    </tr>\n",
       "    <tr>\n",
       "      <th>3544657</th>\n",
       "      <td>983919AK7</td>\n",
       "      <td>AMD4987233</td>\n",
       "      <td>AMD</td>\n",
       "      <td>2022-09-30</td>\n",
       "      <td>9:19:58</td>\n",
       "      <td>750000.0</td>\n",
       "      <td>82.937</td>\n",
       "      <td>5.093108</td>\n",
       "      <td>B</td>\n",
       "      <td>CORP</td>\n",
       "    </tr>\n",
       "    <tr>\n",
       "      <th>3544659</th>\n",
       "      <td>983919AK7</td>\n",
       "      <td>AMD4987233</td>\n",
       "      <td>AMD</td>\n",
       "      <td>2022-09-30</td>\n",
       "      <td>16:00:59</td>\n",
       "      <td>220000.0</td>\n",
       "      <td>82.522</td>\n",
       "      <td>5.166913</td>\n",
       "      <td>B</td>\n",
       "      <td>CORP</td>\n",
       "    </tr>\n",
       "    <tr>\n",
       "      <th>3544658</th>\n",
       "      <td>983919AK7</td>\n",
       "      <td>AMD4987233</td>\n",
       "      <td>AMD</td>\n",
       "      <td>2022-09-30</td>\n",
       "      <td>16:00:59</td>\n",
       "      <td>51000.0</td>\n",
       "      <td>82.493</td>\n",
       "      <td>5.172086</td>\n",
       "      <td>B</td>\n",
       "      <td>CORP</td>\n",
       "    </tr>\n",
       "  </tbody>\n",
       "</table>\n",
       "<p>22630000 rows × 10 columns</p>\n",
       "</div>"
      ],
      "text/plain": [
       "          cusip_id bond_sym_id company_symbol trd_exctn_dt trd_exctn_tm  \\\n",
       "1422120  00037BAA0  ABB3852123            ABB   2012-10-01     15:26:58   \n",
       "1422119  00037BAA0  ABB3852123            ABB   2012-10-01     11:41:41   \n",
       "1422121  00037BAA0  ABB3852123            ABB   2012-10-01     16:02:48   \n",
       "1422118  00037BAA0  ABB3852123            ABB   2012-10-01     11:09:23   \n",
       "1422117  00037BAA0  ABB3852123            ABB   2012-10-01      5:38:16   \n",
       "...            ...         ...            ...          ...          ...   \n",
       "3544653  983919AK7  AMD4987233            AMD   2022-09-29     13:55:48   \n",
       "3544654  983919AK7  AMD4987233            AMD   2022-09-29     14:06:05   \n",
       "3544657  983919AK7  AMD4987233            AMD   2022-09-30      9:19:58   \n",
       "3544659  983919AK7  AMD4987233            AMD   2022-09-30     16:00:59   \n",
       "3544658  983919AK7  AMD4987233            AMD   2022-09-30     16:00:59   \n",
       "\n",
       "         entrd_vol_qt  rptd_pr    yld_pt rpt_side_cd sub_prdct  \n",
       "1422120      625000.0  101.849  1.209968           S      CORP  \n",
       "1422119      510000.0  101.727  1.237081           S      CORP  \n",
       "1422121      350000.0  101.916  1.195093           S      CORP  \n",
       "1422118      150000.0  101.795  1.221964           S      CORP  \n",
       "1422117       15000.0  101.866  1.206192           S      CORP  \n",
       "...               ...      ...       ...         ...       ...  \n",
       "3544653      219000.0   82.348  5.197043           S      CORP  \n",
       "3544654       35000.0   82.337  5.199009           S      CORP  \n",
       "3544657      750000.0   82.937  5.093108           B      CORP  \n",
       "3544659      220000.0   82.522  5.166913           B      CORP  \n",
       "3544658       51000.0   82.493  5.172086           B      CORP  \n",
       "\n",
       "[22630000 rows x 10 columns]"
      ]
     },
     "execution_count": 22,
     "metadata": {},
     "output_type": "execute_result"
    }
   ],
   "source": [
    "final_df = final_df.sort_values(by=['cusip_id','trd_exctn_dt','entrd_vol_qt'], ascending=[True,True,False])\n",
    "\n",
    "final_df\n",
    "\n"
   ]
  },
  {
   "cell_type": "code",
   "execution_count": 23,
   "id": "e15e37b1-be95-4947-90d1-d0d4cae86664",
   "metadata": {},
   "outputs": [
    {
     "data": {
      "text/plain": [
       "733"
      ]
     },
     "execution_count": 23,
     "metadata": {},
     "output_type": "execute_result"
    }
   ],
   "source": [
    "final_df[final_df['cusip_id']=='00037BAA0']['trd_exctn_dt'].nunique()"
   ]
  },
  {
   "cell_type": "code",
   "execution_count": 24,
   "id": "cd652281-c745-4e1f-8167-5750a5601c2f",
   "metadata": {},
   "outputs": [
    {
     "name": "stdout",
     "output_type": "stream",
     "text": [
      "(1738717, 10)\n"
     ]
    }
   ],
   "source": [
    "\n",
    "# Here we take the first row on the basis of the volume for each date, \n",
    "# if multiple trades for the same bond exist on the same day then we consider \n",
    "# the trade with the highest volume\n",
    "grouped_df = final_df.groupby(['trd_exctn_dt', 'cusip_id']).first().reset_index()\n",
    "\n",
    "print(grouped_df.shape)\n"
   ]
  },
  {
   "cell_type": "code",
   "execution_count": 28,
   "id": "55c394de-1ea3-4c45-a136-bc3c4f2ebab2",
   "metadata": {},
   "outputs": [
    {
     "data": {
      "text/plain": [
       "05968LAH5    2485\n",
       "023135AJ5    2472\n",
       "12686CBB4    2459\n",
       "126650BZ2    2438\n",
       "459745GN9    2410\n",
       "             ... \n",
       "90131HBP9       3\n",
       "71647NAF6       3\n",
       "71647NAB5       3\n",
       "71647NAC3       2\n",
       "674599DS1       2\n",
       "Name: cusip_id, Length: 2237, dtype: int64"
      ]
     },
     "execution_count": 28,
     "metadata": {},
     "output_type": "execute_result"
    }
   ],
   "source": [
    "grouped_df['cusip_id'].value_counts()"
   ]
  },
  {
   "cell_type": "code",
   "execution_count": 13,
   "id": "06a129a0-fceb-46b2-9833-b3c1162d1b16",
   "metadata": {},
   "outputs": [
    {
     "data": {
      "text/plain": [
       "0        2012-10-01\n",
       "96       2012-10-02\n",
       "198      2012-10-03\n",
       "514      2012-10-09\n",
       "728      2012-10-11\n",
       "            ...    \n",
       "432656   2017-04-25\n",
       "433320   2017-04-26\n",
       "433969   2017-04-27\n",
       "435238   2017-05-01\n",
       "435855   2017-05-02\n",
       "Name: trd_exctn_dt, Length: 733, dtype: datetime64[ns]"
      ]
     },
     "execution_count": 13,
     "metadata": {},
     "output_type": "execute_result"
    }
   ],
   "source": [
    "grouped_df[grouped_df['cusip_id']=='00037BAA0']['trd_exctn_dt']"
   ]
  },
  {
   "cell_type": "code",
   "execution_count": 14,
   "id": "3d2e2f21-18da-4894-97ae-08e42fe050e4",
   "metadata": {},
   "outputs": [
    {
     "data": {
      "text/plain": [
       "2237"
      ]
     },
     "execution_count": 14,
     "metadata": {},
     "output_type": "execute_result"
    }
   ],
   "source": [
    "grouped_df['cusip_id'].nunique()"
   ]
  },
  {
   "cell_type": "code",
   "execution_count": 48,
   "id": "40e579f2-41c7-44e7-9e87-7fc50add222c",
   "metadata": {},
   "outputs": [
    {
     "data": {
      "text/plain": [
       "Index(['trd_exctn_dt', 'cusip_id', 'bond_sym_id', 'company_symbol',\n",
       "       'trd_exctn_tm', 'entrd_vol_qt', 'rptd_pr', 'yld_pt', 'rpt_side_cd',\n",
       "       'sub_prdct'],\n",
       "      dtype='object')"
      ]
     },
     "execution_count": 48,
     "metadata": {},
     "output_type": "execute_result"
    }
   ],
   "source": [
    "grouped_df.columns"
   ]
  },
  {
   "cell_type": "code",
   "execution_count": 49,
   "id": "86e7be6e-ca40-4877-81b1-8640dc1d36b2",
   "metadata": {},
   "outputs": [
    {
     "data": {
      "text/html": [
       "<div>\n",
       "<style scoped>\n",
       "    .dataframe tbody tr th:only-of-type {\n",
       "        vertical-align: middle;\n",
       "    }\n",
       "\n",
       "    .dataframe tbody tr th {\n",
       "        vertical-align: top;\n",
       "    }\n",
       "\n",
       "    .dataframe thead th {\n",
       "        text-align: right;\n",
       "    }\n",
       "</style>\n",
       "<table border=\"1\" class=\"dataframe\">\n",
       "  <thead>\n",
       "    <tr style=\"text-align: right;\">\n",
       "      <th></th>\n",
       "      <th>trd_exctn_dt</th>\n",
       "      <th>cusip_id</th>\n",
       "      <th>bond_sym_id</th>\n",
       "      <th>company_symbol</th>\n",
       "      <th>trd_exctn_tm</th>\n",
       "      <th>entrd_vol_qt</th>\n",
       "      <th>rptd_pr</th>\n",
       "      <th>yld_pt</th>\n",
       "      <th>rpt_side_cd</th>\n",
       "      <th>sub_prdct</th>\n",
       "    </tr>\n",
       "  </thead>\n",
       "  <tbody>\n",
       "    <tr>\n",
       "      <th>0</th>\n",
       "      <td>2012-10-01</td>\n",
       "      <td>00037BAA0</td>\n",
       "      <td>ABB3852123</td>\n",
       "      <td>ABB</td>\n",
       "      <td>15:26:58</td>\n",
       "      <td>625000.0</td>\n",
       "      <td>101.849</td>\n",
       "      <td>1.209968</td>\n",
       "      <td>S</td>\n",
       "      <td>CORP</td>\n",
       "    </tr>\n",
       "    <tr>\n",
       "      <th>1</th>\n",
       "      <td>2012-10-01</td>\n",
       "      <td>001055AH5</td>\n",
       "      <td>AFL3818464</td>\n",
       "      <td>AFL</td>\n",
       "      <td>16:20:20</td>\n",
       "      <td>1801000.0</td>\n",
       "      <td>105.190</td>\n",
       "      <td>1.419056</td>\n",
       "      <td>S</td>\n",
       "      <td>CORP</td>\n",
       "    </tr>\n",
       "    <tr>\n",
       "      <th>2</th>\n",
       "      <td>2012-10-01</td>\n",
       "      <td>001546AM2</td>\n",
       "      <td>AKS3832861</td>\n",
       "      <td>AKS</td>\n",
       "      <td>16:12:11</td>\n",
       "      <td>60000.0</td>\n",
       "      <td>85.900</td>\n",
       "      <td>10.784508</td>\n",
       "      <td>S</td>\n",
       "      <td>CORP</td>\n",
       "    </tr>\n",
       "    <tr>\n",
       "      <th>3</th>\n",
       "      <td>2012-10-01</td>\n",
       "      <td>00206RBB7</td>\n",
       "      <td>T3818498</td>\n",
       "      <td>T</td>\n",
       "      <td>10:08:19</td>\n",
       "      <td>1900000.0</td>\n",
       "      <td>100.758</td>\n",
       "      <td>0.550999</td>\n",
       "      <td>B</td>\n",
       "      <td>CORP</td>\n",
       "    </tr>\n",
       "    <tr>\n",
       "      <th>4</th>\n",
       "      <td>2012-10-01</td>\n",
       "      <td>00206RBC5</td>\n",
       "      <td>T3818485</td>\n",
       "      <td>T</td>\n",
       "      <td>11:00:42</td>\n",
       "      <td>2089000.0</td>\n",
       "      <td>102.700</td>\n",
       "      <td>0.966562</td>\n",
       "      <td>B</td>\n",
       "      <td>CORP</td>\n",
       "    </tr>\n",
       "  </tbody>\n",
       "</table>\n",
       "</div>"
      ],
      "text/plain": [
       "  trd_exctn_dt   cusip_id bond_sym_id company_symbol trd_exctn_tm  \\\n",
       "0   2012-10-01  00037BAA0  ABB3852123            ABB     15:26:58   \n",
       "1   2012-10-01  001055AH5  AFL3818464            AFL     16:20:20   \n",
       "2   2012-10-01  001546AM2  AKS3832861            AKS     16:12:11   \n",
       "3   2012-10-01  00206RBB7    T3818498              T     10:08:19   \n",
       "4   2012-10-01  00206RBC5    T3818485              T     11:00:42   \n",
       "\n",
       "   entrd_vol_qt  rptd_pr     yld_pt rpt_side_cd sub_prdct  \n",
       "0      625000.0  101.849   1.209968           S      CORP  \n",
       "1     1801000.0  105.190   1.419056           S      CORP  \n",
       "2       60000.0   85.900  10.784508           S      CORP  \n",
       "3     1900000.0  100.758   0.550999           B      CORP  \n",
       "4     2089000.0  102.700   0.966562           B      CORP  "
      ]
     },
     "execution_count": 49,
     "metadata": {},
     "output_type": "execute_result"
    }
   ],
   "source": [
    "grouped_df.head()"
   ]
  },
  {
   "cell_type": "code",
   "execution_count": 50,
   "id": "6f6272a9-ecc2-4805-9012-6102c11160ad",
   "metadata": {},
   "outputs": [
    {
     "data": {
      "text/plain": [
       "(1106046, 11)"
      ]
     },
     "execution_count": 50,
     "metadata": {},
     "output_type": "execute_result"
    }
   ],
   "source": [
    "\n",
    "\n",
    "# Group by 'cusip_id' and resample each group to monthly frequency\n",
    "monthly_grouped_dfs = []\n",
    "for cusip_id, group in grouped_df.groupby('cusip_id'):\n",
    "    group.set_index('trd_exctn_dt', inplace=True)\n",
    "    monthly_grouped_df = group.resample('W').last().reset_index()\n",
    "    monthly_grouped_dfs.append(monthly_grouped_df)\n",
    "\n",
    "# Concatenate all the monthly grouped DataFrames back together\n",
    "result_df = pd.concat(monthly_grouped_dfs, ignore_index=True)\n",
    "result_df.reset_index(inplace=True)\n",
    "result_df.shape\n"
   ]
  },
  {
   "cell_type": "code",
   "execution_count": 51,
   "id": "4815e48e-9a2a-45cc-a49b-c7b7e88f6510",
   "metadata": {},
   "outputs": [
    {
     "data": {
      "text/plain": [
       "5228"
      ]
     },
     "execution_count": 51,
     "metadata": {},
     "output_type": "execute_result"
    }
   ],
   "source": [
    "result_df['cusip_id'].nunique()"
   ]
  },
  {
   "cell_type": "code",
   "execution_count": 52,
   "id": "5a0836ec-dab5-4e61-ad1a-23d6d9b9d611",
   "metadata": {},
   "outputs": [],
   "source": [
    "result_df.to_csv(\"bigger_final_data.csv.gz\",compression='gzip')"
   ]
  },
  {
   "cell_type": "code",
   "execution_count": 53,
   "id": "622be70d-fb3d-43dc-abb2-5d1313c9be98",
   "metadata": {},
   "outputs": [
    {
     "data": {
      "text/plain": [
       "5228"
      ]
     },
     "execution_count": 53,
     "metadata": {},
     "output_type": "execute_result"
    }
   ],
   "source": [
    "result_df['cusip_id'].nunique()"
   ]
  },
  {
   "cell_type": "code",
   "execution_count": 54,
   "id": "49645212-f93f-4d22-b266-f4b558a79301",
   "metadata": {},
   "outputs": [
    {
     "data": {
      "text/plain": [
       "(1106046, 11)"
      ]
     },
     "execution_count": 54,
     "metadata": {},
     "output_type": "execute_result"
    }
   ],
   "source": [
    "result_df.shape"
   ]
  },
  {
   "cell_type": "code",
   "execution_count": 55,
   "id": "62a395f3-d393-4508-8222-2b4aba170fd4",
   "metadata": {},
   "outputs": [
    {
     "data": {
      "text/plain": [
       "Index(['index', 'trd_exctn_dt', 'cusip_id', 'bond_sym_id', 'company_symbol',\n",
       "       'trd_exctn_tm', 'entrd_vol_qt', 'rptd_pr', 'yld_pt', 'rpt_side_cd',\n",
       "       'sub_prdct'],\n",
       "      dtype='object')"
      ]
     },
     "execution_count": 55,
     "metadata": {},
     "output_type": "execute_result"
    }
   ],
   "source": [
    "result_df.columns"
   ]
  },
  {
   "cell_type": "code",
   "execution_count": 56,
   "id": "620f60af-a344-4591-b5cd-db3a4d568bd5",
   "metadata": {},
   "outputs": [
    {
     "name": "stderr",
     "output_type": "stream",
     "text": [
      "/var/tmp/ipykernel_98788/3561484508.py:8: SettingWithCopyWarning: \n",
      "A value is trying to be set on a copy of a slice from a DataFrame\n",
      "\n",
      "See the caveats in the documentation: https://pandas.pydata.org/pandas-docs/stable/user_guide/indexing.html#returning-a-view-versus-a-copy\n",
      "  df_w_200.drop(columns='no_of_weeks', inplace=True)\n"
     ]
    },
    {
     "data": {
      "text/plain": [
       "(722763, 11)"
      ]
     },
     "execution_count": 56,
     "metadata": {},
     "output_type": "execute_result"
    }
   ],
   "source": [
    "\n",
    "# Calculate the count of entries for each 'cusip_id' (bond) and store it in a new column 'entry_count'\n",
    "result_df['no_of_weeks'] = result_df.groupby('cusip_id')['cusip_id'].transform('count')\n",
    "\n",
    "# Filter out all the bonds with more than 200 entries\n",
    "df_w_200 = result_df[result_df['no_of_weeks'] > 200]\n",
    "\n",
    "# Drop the 'entry_count' column if it's not needed anymore\n",
    "df_w_200.drop(columns='no_of_weeks', inplace=True)\n",
    "\n",
    "df_w_200.shape\n"
   ]
  },
  {
   "cell_type": "code",
   "execution_count": 57,
   "id": "5c1e090c-0549-4f22-8b89-a7dd2a2f043f",
   "metadata": {},
   "outputs": [
    {
     "data": {
      "text/plain": [
       "2293"
      ]
     },
     "execution_count": 57,
     "metadata": {},
     "output_type": "execute_result"
    }
   ],
   "source": [
    "df_w_200['cusip_id'].nunique()"
   ]
  },
  {
   "cell_type": "code",
   "execution_count": 58,
   "id": "a3ca859b-0ada-4d00-9d1d-587f7dd9511d",
   "metadata": {},
   "outputs": [],
   "source": [
    "df_w_200.to_pickle('final_data_reduced.pkl')"
   ]
  },
  {
   "cell_type": "code",
   "execution_count": 59,
   "id": "ce316afd-9032-404d-b2f0-7c259e5a243a",
   "metadata": {},
   "outputs": [
    {
     "data": {
      "text/plain": [
       "array(['00037BAA0', '00037BAB8', '00101JAF3', ..., '98978VAK9',\n",
       "       '98978VAL7', '98978VAN3'], dtype=object)"
      ]
     },
     "execution_count": 59,
     "metadata": {},
     "output_type": "execute_result"
    }
   ],
   "source": [
    "df_w_200['cusip_id'].unique()"
   ]
  },
  {
   "cell_type": "code",
   "execution_count": 60,
   "id": "f408ac4e-f4dc-4d9f-b736-60cdb54376ca",
   "metadata": {},
   "outputs": [
    {
     "name": "stdout",
     "output_type": "stream",
     "text": [
      "    trd_exctn_dt  num_bonds_per_date\n",
      "0     2012-10-07                 231\n",
      "1     2012-10-14                 235\n",
      "2     2012-10-21                 243\n",
      "3     2012-10-28                 246\n",
      "4     2012-11-04                 243\n",
      "..           ...                 ...\n",
      "517   2022-09-04                1267\n",
      "518   2022-09-11                1254\n",
      "519   2022-09-18                1256\n",
      "520   2022-09-25                1259\n",
      "521   2022-10-02                1253\n",
      "\n",
      "[522 rows x 2 columns]\n"
     ]
    }
   ],
   "source": [
    "\n",
    "\n",
    "# Group by 'trd_exctn_dt' and count the number of unique 'cusip_id' values in each group\n",
    "bonds_per_date = df_w_200.groupby('trd_exctn_dt')['cusip_id'].nunique().reset_index()\n",
    "bonds_per_date.columns = ['trd_exctn_dt', 'num_bonds_per_date']\n",
    "\n",
    "print(bonds_per_date)\n"
   ]
  },
  {
   "cell_type": "code",
   "execution_count": null,
   "id": "cf9d8590-769b-496b-aceb-caeb3ae27b02",
   "metadata": {},
   "outputs": [],
   "source": []
  }
 ],
 "metadata": {
  "environment": {
   "kernel": "python3",
   "name": "common-cpu.m109",
   "type": "gcloud",
   "uri": "gcr.io/deeplearning-platform-release/base-cpu:m109"
  },
  "kernelspec": {
   "display_name": "Python 3",
   "language": "python",
   "name": "python3"
  },
  "language_info": {
   "codemirror_mode": {
    "name": "ipython",
    "version": 3
   },
   "file_extension": ".py",
   "mimetype": "text/x-python",
   "name": "python",
   "nbconvert_exporter": "python",
   "pygments_lexer": "ipython3",
   "version": "3.10.3 (v3.10.3:a342a49189, Mar 16 2022, 09:34:18) [Clang 13.0.0 (clang-1300.0.29.30)]"
  },
  "toc-autonumbering": false,
  "toc-showcode": false,
  "toc-showmarkdowntxt": false,
  "toc-showtags": true,
  "vscode": {
   "interpreter": {
    "hash": "949777d72b0d2535278d3dc13498b2535136f6dfe0678499012e853ee9abcab1"
   }
  }
 },
 "nbformat": 4,
 "nbformat_minor": 5
}
