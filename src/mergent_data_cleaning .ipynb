{
 "cells": [
  {
   "cell_type": "code",
   "execution_count": 1,
   "metadata": {},
   "outputs": [],
   "source": [
    "import pandas as pd\n",
    "import numpy as np\n",
    "from tabulate import tabulate"
   ]
  },
  {
   "attachments": {},
   "cell_type": "markdown",
   "metadata": {},
   "source": [
    "https://www.dropbox.com/s/d0ycz48z8qj0dws/mergedissue.csv.zip?dl=0\n",
    " \n",
    "This contains all US issued bonds with ISINs to identify the bonds and CUSIP for borrower identification.\n",
    " \n",
    "The bonds can be merged with TRACE Enhanced (this is already cleaned) for bond prices.\n",
    " \n",
    "For bond data this is all you need! For borrower data, you want to use the merged CRSP/Compustat database. Both Trace Enhanced and CRSP/Compustat are available via WRDS.\n",
    " \n",
    "Now you can start working with the data and prepare the trading data etc. for the modeling.\n",
    " \n",
    "Did you make some progress in the literature on bond pricing to get a better understanding how they model bond returns? You want to predict returns eventually (not prices)."
   ]
  },
  {
   "cell_type": "code",
   "execution_count": 2,
   "metadata": {},
   "outputs": [
    {
     "name": "stderr",
     "output_type": "stream",
     "text": [
      "/var/folders/4b/l73ksqn90ls5dx9x6n2k93xc0000gn/T/ipykernel_35609/3855846600.py:1: DtypeWarning: Columns (8,27,42,43,48,56,57,63,81,85,97,98,99,100,101,106,107,108,111,112,116,126,127,128,129,130,131,132,133,134,135,136,137,138,140,143,145,146,147,148,161,162,167,189,190,191,192,193,195,196,199,200,201,203,204,220) have mixed types. Specify dtype option on import or set low_memory=False.\n",
      "  df = pd.read_csv(r'/Users/ishantchaudhary/REPOS/Master Thesis Bond Prices Prediction/data/raw/mergedissue.csv')\n"
     ]
    }
   ],
   "source": [
    "df = pd.read_csv(r'/Users/ishantchaudhary/REPOS/Master Thesis Bond Prices Prediction/data/raw/mergedissue.csv')"
   ]
  },
  {
   "cell_type": "code",
   "execution_count": 3,
   "metadata": {},
   "outputs": [
    {
     "data": {
      "text/plain": [
       "Index(['issue_id', 'issuer_id', 'prospectus_issuer_name', 'issuer_cusip',\n",
       "       'issue_cusip', 'issue_name', 'maturity', 'security_level',\n",
       "       'security_pledge', 'enhancement',\n",
       "       ...\n",
       "       'subsidiary_redesignation', 'subsidiary_guarantee',\n",
       "       'sales_leaseback_sub', 'liens_sub', 'fixed_charge_coverage_sub',\n",
       "       'leverage_test_sub', 'unit_cusip', 'total_units_offered',\n",
       "       'principal_amt_per_unit', 'allocated_offering_price_unit'],\n",
       "      dtype='object', length=224)"
      ]
     },
     "execution_count": 3,
     "metadata": {},
     "output_type": "execute_result"
    }
   ],
   "source": [
    "df.columns"
   ]
  },
  {
   "cell_type": "code",
   "execution_count": 4,
   "metadata": {},
   "outputs": [
    {
     "data": {
      "text/html": [
       "<div>\n",
       "<style scoped>\n",
       "    .dataframe tbody tr th:only-of-type {\n",
       "        vertical-align: middle;\n",
       "    }\n",
       "\n",
       "    .dataframe tbody tr th {\n",
       "        vertical-align: top;\n",
       "    }\n",
       "\n",
       "    .dataframe thead th {\n",
       "        text-align: right;\n",
       "    }\n",
       "</style>\n",
       "<table border=\"1\" class=\"dataframe\">\n",
       "  <thead>\n",
       "    <tr style=\"text-align: right;\">\n",
       "      <th></th>\n",
       "      <th>issue_id</th>\n",
       "      <th>issuer_id</th>\n",
       "      <th>prospectus_issuer_name</th>\n",
       "      <th>issuer_cusip</th>\n",
       "      <th>issue_cusip</th>\n",
       "      <th>issue_name</th>\n",
       "      <th>maturity</th>\n",
       "      <th>security_level</th>\n",
       "      <th>security_pledge</th>\n",
       "      <th>enhancement</th>\n",
       "      <th>...</th>\n",
       "      <th>subsidiary_redesignation</th>\n",
       "      <th>subsidiary_guarantee</th>\n",
       "      <th>sales_leaseback_sub</th>\n",
       "      <th>liens_sub</th>\n",
       "      <th>fixed_charge_coverage_sub</th>\n",
       "      <th>leverage_test_sub</th>\n",
       "      <th>unit_cusip</th>\n",
       "      <th>total_units_offered</th>\n",
       "      <th>principal_amt_per_unit</th>\n",
       "      <th>allocated_offering_price_unit</th>\n",
       "    </tr>\n",
       "  </thead>\n",
       "  <tbody>\n",
       "    <tr>\n",
       "      <th>0</th>\n",
       "      <td>1.0</td>\n",
       "      <td>3.0</td>\n",
       "      <td>AAR CORP</td>\n",
       "      <td>000361</td>\n",
       "      <td>AA3</td>\n",
       "      <td>NT</td>\n",
       "      <td>2001-11-01</td>\n",
       "      <td>SEN</td>\n",
       "      <td>NaN</td>\n",
       "      <td>N</td>\n",
       "      <td>...</td>\n",
       "      <td>N</td>\n",
       "      <td>N</td>\n",
       "      <td>N</td>\n",
       "      <td>N</td>\n",
       "      <td>N</td>\n",
       "      <td>N</td>\n",
       "      <td>NaN</td>\n",
       "      <td>NaN</td>\n",
       "      <td>NaN</td>\n",
       "      <td>NaN</td>\n",
       "    </tr>\n",
       "    <tr>\n",
       "      <th>1</th>\n",
       "      <td>2.0</td>\n",
       "      <td>3.0</td>\n",
       "      <td>AAR CORP</td>\n",
       "      <td>000361</td>\n",
       "      <td>AB1</td>\n",
       "      <td>NT</td>\n",
       "      <td>2003-10-15</td>\n",
       "      <td>SEN</td>\n",
       "      <td>NaN</td>\n",
       "      <td>N</td>\n",
       "      <td>...</td>\n",
       "      <td>N</td>\n",
       "      <td>N</td>\n",
       "      <td>Y</td>\n",
       "      <td>N</td>\n",
       "      <td>N</td>\n",
       "      <td>N</td>\n",
       "      <td>NaN</td>\n",
       "      <td>NaN</td>\n",
       "      <td>NaN</td>\n",
       "      <td>NaN</td>\n",
       "    </tr>\n",
       "    <tr>\n",
       "      <th>2</th>\n",
       "      <td>3.0</td>\n",
       "      <td>40263.0</td>\n",
       "      <td>ABN AMRO BK N V N Y BRH</td>\n",
       "      <td>00077D</td>\n",
       "      <td>AB5</td>\n",
       "      <td>MTN</td>\n",
       "      <td>1996-01-12</td>\n",
       "      <td>SEN</td>\n",
       "      <td>NaN</td>\n",
       "      <td>N</td>\n",
       "      <td>...</td>\n",
       "      <td>NaN</td>\n",
       "      <td>NaN</td>\n",
       "      <td>NaN</td>\n",
       "      <td>NaN</td>\n",
       "      <td>NaN</td>\n",
       "      <td>NaN</td>\n",
       "      <td>NaN</td>\n",
       "      <td>NaN</td>\n",
       "      <td>NaN</td>\n",
       "      <td>NaN</td>\n",
       "    </tr>\n",
       "    <tr>\n",
       "      <th>3</th>\n",
       "      <td>4.0</td>\n",
       "      <td>40263.0</td>\n",
       "      <td>ABN AMRO BK N V N Y BRH</td>\n",
       "      <td>00077D</td>\n",
       "      <td>AF6</td>\n",
       "      <td>SUB DEP NT SER B</td>\n",
       "      <td>2009-08-01</td>\n",
       "      <td>SENS</td>\n",
       "      <td>NaN</td>\n",
       "      <td>N</td>\n",
       "      <td>...</td>\n",
       "      <td>NaN</td>\n",
       "      <td>NaN</td>\n",
       "      <td>NaN</td>\n",
       "      <td>NaN</td>\n",
       "      <td>NaN</td>\n",
       "      <td>NaN</td>\n",
       "      <td>NaN</td>\n",
       "      <td>NaN</td>\n",
       "      <td>NaN</td>\n",
       "      <td>NaN</td>\n",
       "    </tr>\n",
       "    <tr>\n",
       "      <th>4</th>\n",
       "      <td>5.0</td>\n",
       "      <td>40263.0</td>\n",
       "      <td>ABN AMRO BK N V N Y BRH</td>\n",
       "      <td>00077T</td>\n",
       "      <td>AA2</td>\n",
       "      <td>SUB DEP NT SER B</td>\n",
       "      <td>2023-05-15</td>\n",
       "      <td>SUB</td>\n",
       "      <td>NaN</td>\n",
       "      <td>N</td>\n",
       "      <td>...</td>\n",
       "      <td>NaN</td>\n",
       "      <td>NaN</td>\n",
       "      <td>NaN</td>\n",
       "      <td>NaN</td>\n",
       "      <td>NaN</td>\n",
       "      <td>NaN</td>\n",
       "      <td>NaN</td>\n",
       "      <td>NaN</td>\n",
       "      <td>NaN</td>\n",
       "      <td>NaN</td>\n",
       "    </tr>\n",
       "  </tbody>\n",
       "</table>\n",
       "<p>5 rows × 224 columns</p>\n",
       "</div>"
      ],
      "text/plain": [
       "   issue_id  issuer_id   prospectus_issuer_name issuer_cusip issue_cusip  \\\n",
       "0       1.0        3.0                 AAR CORP       000361         AA3   \n",
       "1       2.0        3.0                 AAR CORP       000361         AB1   \n",
       "2       3.0    40263.0  ABN AMRO BK N V N Y BRH       00077D         AB5   \n",
       "3       4.0    40263.0  ABN AMRO BK N V N Y BRH       00077D         AF6   \n",
       "4       5.0    40263.0  ABN AMRO BK N V N Y BRH       00077T         AA2   \n",
       "\n",
       "         issue_name    maturity security_level security_pledge enhancement  \\\n",
       "0                NT  2001-11-01            SEN             NaN           N   \n",
       "1                NT  2003-10-15            SEN             NaN           N   \n",
       "2               MTN  1996-01-12            SEN             NaN           N   \n",
       "3  SUB DEP NT SER B  2009-08-01           SENS             NaN           N   \n",
       "4  SUB DEP NT SER B  2023-05-15            SUB             NaN           N   \n",
       "\n",
       "   ... subsidiary_redesignation subsidiary_guarantee sales_leaseback_sub  \\\n",
       "0  ...                        N                    N                   N   \n",
       "1  ...                        N                    N                   Y   \n",
       "2  ...                      NaN                  NaN                 NaN   \n",
       "3  ...                      NaN                  NaN                 NaN   \n",
       "4  ...                      NaN                  NaN                 NaN   \n",
       "\n",
       "  liens_sub fixed_charge_coverage_sub leverage_test_sub unit_cusip  \\\n",
       "0         N                         N                 N        NaN   \n",
       "1         N                         N                 N        NaN   \n",
       "2       NaN                       NaN               NaN        NaN   \n",
       "3       NaN                       NaN               NaN        NaN   \n",
       "4       NaN                       NaN               NaN        NaN   \n",
       "\n",
       "  total_units_offered principal_amt_per_unit allocated_offering_price_unit  \n",
       "0                 NaN                    NaN                           NaN  \n",
       "1                 NaN                    NaN                           NaN  \n",
       "2                 NaN                    NaN                           NaN  \n",
       "3                 NaN                    NaN                           NaN  \n",
       "4                 NaN                    NaN                           NaN  \n",
       "\n",
       "[5 rows x 224 columns]"
      ]
     },
     "execution_count": 4,
     "metadata": {},
     "output_type": "execute_result"
    }
   ],
   "source": [
    "df.head()"
   ]
  },
  {
   "cell_type": "code",
   "execution_count": 5,
   "metadata": {},
   "outputs": [],
   "source": [
    "# function to remove columns on basis of conditions\n",
    "\n",
    "def remove_empty_columns(data):\n",
    "    # Calculate the total number of rows in the DataFrame\n",
    "    total_rows = len(data)\n",
    "\n",
    "    # Iterate over each column in the DataFrame\n",
    "    for column in data.columns:\n",
    "        # Count the number of empty values in the column\n",
    "        num_empty_values = data[column].isnull().sum()\n",
    "\n",
    "        # Calculate the percentage of empty values in the column\n",
    "        percentage_empty = (num_empty_values / total_rows) * 100\n",
    "\n",
    "        # Check if more than 80% of the values are empty or if there is only one unique value\n",
    "        if percentage_empty > 80 or data[column].nunique() == 1:\n",
    "            # print(column)\n",
    "            # Remove the column from the DataFrame\n",
    "            data.drop(column, axis=1, inplace=True)\n",
    "\n",
    "    return data\n"
   ]
  },
  {
   "cell_type": "code",
   "execution_count": 6,
   "metadata": {},
   "outputs": [
    {
     "data": {
      "text/plain": [
       "(561184, 224)"
      ]
     },
     "execution_count": 6,
     "metadata": {},
     "output_type": "execute_result"
    }
   ],
   "source": [
    "df.shape"
   ]
  },
  {
   "cell_type": "code",
   "execution_count": 7,
   "metadata": {},
   "outputs": [
    {
     "data": {
      "text/plain": [
       "(561184, 71)"
      ]
     },
     "execution_count": 7,
     "metadata": {},
     "output_type": "execute_result"
    }
   ],
   "source": [
    "clean_data = remove_empty_columns(df)\n",
    "clean_data.shape\n"
   ]
  },
  {
   "cell_type": "code",
   "execution_count": 8,
   "metadata": {},
   "outputs": [],
   "source": [
    "categories = ['convertible','foreign_currency','putable','private_placement','perpetual','exchangeable','preferred_security','rule_144a']"
   ]
  },
  {
   "cell_type": "code",
   "execution_count": 9,
   "metadata": {},
   "outputs": [
    {
     "name": "stdout",
     "output_type": "stream",
     "text": [
      "convertible\n",
      "N    554156\n",
      "Y      6103\n",
      "Name: convertible, dtype: int64\n",
      "N    554156\n",
      "Name: convertible, dtype: int64\n",
      "foreign_currency\n",
      "N    547550\n",
      "Y      6606\n",
      "Name: foreign_currency, dtype: int64\n",
      "N    547550\n",
      "Name: foreign_currency, dtype: int64\n",
      "putable\n",
      "N    545797\n",
      "Y      1599\n",
      "Name: putable, dtype: int64\n",
      "N    545797\n",
      "Name: putable, dtype: int64\n",
      "private_placement\n",
      "N    545113\n",
      "Y       684\n",
      "Name: private_placement, dtype: int64\n",
      "N    545113\n",
      "Name: private_placement, dtype: int64\n",
      "perpetual\n",
      "N    543222\n",
      "Y      1891\n",
      "Name: perpetual, dtype: int64\n",
      "N    543222\n",
      "Name: perpetual, dtype: int64\n",
      "exchangeable\n",
      "N    489311\n",
      "Y     53911\n",
      "Name: exchangeable, dtype: int64\n",
      "N    489311\n",
      "Name: exchangeable, dtype: int64\n",
      "preferred_security\n",
      "N    462157\n",
      "Y     27154\n",
      "Name: preferred_security, dtype: int64\n",
      "N    462157\n",
      "Name: preferred_security, dtype: int64\n",
      "rule_144a\n",
      "N    435679\n",
      "Y     26478\n",
      "Name: rule_144a, dtype: int64\n",
      "N    435679\n",
      "Name: rule_144a, dtype: int64\n"
     ]
    }
   ],
   "source": [
    "for cat in categories:\n",
    "    print(cat)\n",
    "    print(clean_data[cat].value_counts())\n",
    "    clean_data = clean_data[clean_data[cat]=='N']\n",
    "    print(clean_data[cat].value_counts())\n",
    "    clean_data = clean_data.drop(cat, axis=1)\n"
   ]
  },
  {
   "cell_type": "code",
   "execution_count": 10,
   "metadata": {},
   "outputs": [
    {
     "data": {
      "text/plain": [
       "(435679, 63)"
      ]
     },
     "execution_count": 10,
     "metadata": {},
     "output_type": "execute_result"
    }
   ],
   "source": [
    "clean_data.shape"
   ]
  },
  {
   "cell_type": "code",
   "execution_count": 11,
   "metadata": {},
   "outputs": [
    {
     "data": {
      "text/plain": [
       "Index(['issue_id', 'issuer_id', 'prospectus_issuer_name', 'issuer_cusip',\n",
       "       'issue_cusip', 'issue_name', 'maturity', 'security_level',\n",
       "       'enhancement', 'coupon_type', 'mtn', 'asset_backed', 'yankee',\n",
       "       'canadian', 'oid', 'slob', 'issue_offered_global', 'settlement_type',\n",
       "       'gross_spread', 'selling_concession', 'comp_neg_exch_deal',\n",
       "       'rule_415_reg', 'sec_reg_type1', 'offering_amt', 'offering_date',\n",
       "       'offering_price', 'offering_yield', 'delivery_date', 'unit_deal',\n",
       "       'form_of_own', 'denomination', 'principal_amt', 'covenants', 'defeased',\n",
       "       'defaulted', 'tender_exch_offer', 'redeemable', 'refund_protection',\n",
       "       'overallotment_opt', 'announced_call', 'active_issue',\n",
       "       'dep_eligibility', 'bond_type', 'subsequent_data', 'isin', 'fungible',\n",
       "       'complete_cusip', 'action_type', 'effective_date', 'action_price',\n",
       "       'action_amount', 'amount_outstanding', 'greater_of', 'lesser_of',\n",
       "       'see_note', 'dated_date', 'first_interest_date', 'interest_frequency',\n",
       "       'coupon', 'pay_in_kind', 'coupon_change_indicator', 'day_count_basis',\n",
       "       'last_interest_date'],\n",
       "      dtype='object')"
      ]
     },
     "execution_count": 11,
     "metadata": {},
     "output_type": "execute_result"
    }
   ],
   "source": [
    "clean_data.columns"
   ]
  },
  {
   "cell_type": "code",
   "execution_count": 12,
   "metadata": {},
   "outputs": [],
   "source": [
    "# import ydata_profiling\n",
    "\n",
    "# profile = ydata_profiling.ProfileReport(clean_data)\n",
    "# profile.to_file(\"clean_data_report_2.html\")"
   ]
  },
  {
   "cell_type": "code",
   "execution_count": 13,
   "metadata": {},
   "outputs": [
    {
     "name": "stderr",
     "output_type": "stream",
     "text": [
      "/Users/ishantchaudhary/Anaconda/anaconda3/lib/python3.9/site-packages/pandas/core/ops/array_ops.py:73: FutureWarning: Comparison of Timestamp with datetime.date is deprecated in order to match the standard library behavior. In a future version these will be considered non-comparable. Use 'ts == pd.Timestamp(date)' or 'ts.date() == date' instead.\n",
      "  result = libops.scalar_compare(x.ravel(), y, op)\n"
     ]
    },
    {
     "data": {
      "text/plain": [
       "(189183, 63)"
      ]
     },
     "execution_count": 13,
     "metadata": {},
     "output_type": "execute_result"
    }
   ],
   "source": [
    "# Filtering all the bonds that were issues after 2012-02-07\n",
    "\n",
    "clean_data['offering_date'] = pd.to_datetime(clean_data['offering_date']).dt.date\n",
    "\n",
    "# Filter rows where 'offering_date' is greater than '2010-01-01'\n",
    "red_data = clean_data[clean_data['offering_date'] > pd.to_datetime('2012-02-07')]\n",
    "\n",
    "# Retrieve the shape of ten_yr_data\n",
    "red_data.shape\n"
   ]
  },
  {
   "cell_type": "code",
   "execution_count": 14,
   "metadata": {},
   "outputs": [
    {
     "name": "stderr",
     "output_type": "stream",
     "text": [
      "/var/folders/4b/l73ksqn90ls5dx9x6n2k93xc0000gn/T/ipykernel_35609/1263813692.py:2: SettingWithCopyWarning: \n",
      "A value is trying to be set on a copy of a slice from a DataFrame.\n",
      "Try using .loc[row_indexer,col_indexer] = value instead\n",
      "\n",
      "See the caveats in the documentation: https://pandas.pydata.org/pandas-docs/stable/user_guide/indexing.html#returning-a-view-versus-a-copy\n",
      "  red_data['offering_date'] = pd.to_datetime(red_data['offering_date'])\n",
      "/var/folders/4b/l73ksqn90ls5dx9x6n2k93xc0000gn/T/ipykernel_35609/1263813692.py:3: SettingWithCopyWarning: \n",
      "A value is trying to be set on a copy of a slice from a DataFrame.\n",
      "Try using .loc[row_indexer,col_indexer] = value instead\n",
      "\n",
      "See the caveats in the documentation: https://pandas.pydata.org/pandas-docs/stable/user_guide/indexing.html#returning-a-view-versus-a-copy\n",
      "  red_data['maturity'] = pd.to_datetime(red_data['maturity'])\n",
      "/var/folders/4b/l73ksqn90ls5dx9x6n2k93xc0000gn/T/ipykernel_35609/1263813692.py:6: SettingWithCopyWarning: \n",
      "A value is trying to be set on a copy of a slice from a DataFrame.\n",
      "Try using .loc[row_indexer,col_indexer] = value instead\n",
      "\n",
      "See the caveats in the documentation: https://pandas.pydata.org/pandas-docs/stable/user_guide/indexing.html#returning-a-view-versus-a-copy\n",
      "  red_data['years_to_maturity'] = (red_data['maturity'] - red_data['offering_date']).dt.days / 365\n"
     ]
    }
   ],
   "source": [
    "# Convert offering_date and maturity columns to datetime\n",
    "red_data['offering_date'] = pd.to_datetime(red_data['offering_date'])\n",
    "red_data['maturity'] = pd.to_datetime(red_data['maturity'])\n",
    "\n",
    "# Calculate the difference in years between offering_date and maturity\n",
    "red_data['years_to_maturity'] = (red_data['maturity'] - red_data['offering_date']).dt.days / 365"
   ]
  },
  {
   "cell_type": "code",
   "execution_count": 15,
   "metadata": {},
   "outputs": [
    {
     "data": {
      "text/plain": [
       "(180214, 64)"
      ]
     },
     "execution_count": 15,
     "metadata": {},
     "output_type": "execute_result"
    }
   ],
   "source": [
    "# Filter out rows with maturity less than 1 year or more than 30 years\n",
    "red_data = red_data[(red_data['years_to_maturity'] >= 1) & (red_data['years_to_maturity'] <= 30)]\n",
    "red_data.shape"
   ]
  },
  {
   "cell_type": "code",
   "execution_count": 16,
   "metadata": {},
   "outputs": [
    {
     "data": {
      "text/plain": [
       "False    180208\n",
       "True          6\n",
       "Name: offering_amt, dtype: int64"
      ]
     },
     "execution_count": 16,
     "metadata": {},
     "output_type": "execute_result"
    }
   ],
   "source": [
    "red_data['offering_amt'].isna().value_counts()"
   ]
  },
  {
   "cell_type": "code",
   "execution_count": 17,
   "metadata": {},
   "outputs": [
    {
     "data": {
      "text/plain": [
       "(180208, 64)"
      ]
     },
     "execution_count": 17,
     "metadata": {},
     "output_type": "execute_result"
    }
   ],
   "source": [
    "red_data = red_data[red_data['offering_amt'].notna()]\n",
    "red_data.shape"
   ]
  },
  {
   "cell_type": "code",
   "execution_count": 18,
   "metadata": {},
   "outputs": [
    {
     "data": {
      "text/plain": [
       "(180208, 64)"
      ]
     },
     "execution_count": 18,
     "metadata": {},
     "output_type": "execute_result"
    }
   ],
   "source": [
    "red_data = red_data[red_data['offering_date'].notna()]\n",
    "red_data.shape"
   ]
  },
  {
   "cell_type": "code",
   "execution_count": 19,
   "metadata": {},
   "outputs": [
    {
     "data": {
      "text/plain": [
       "(139024, 64)"
      ]
     },
     "execution_count": 19,
     "metadata": {},
     "output_type": "execute_result"
    }
   ],
   "source": [
    "red_data = red_data[red_data['coupon'].notna()]\n",
    "red_data.shape"
   ]
  },
  {
   "cell_type": "code",
   "execution_count": 20,
   "metadata": {},
   "outputs": [
    {
     "data": {
      "text/plain": [
       "(139024, 64)"
      ]
     },
     "execution_count": 20,
     "metadata": {},
     "output_type": "execute_result"
    }
   ],
   "source": [
    "red_data = red_data[red_data['maturity'].notna()]\n",
    "red_data.shape"
   ]
  },
  {
   "cell_type": "code",
   "execution_count": 22,
   "metadata": {},
   "outputs": [
    {
     "data": {
      "text/plain": [
       "(10454, 64)"
      ]
     },
     "execution_count": 22,
     "metadata": {},
     "output_type": "execute_result"
    }
   ],
   "source": [
    "# Taking only the Corporate Debentures\n",
    "\n",
    "red_data= red_data[red_data['bond_type']=='CDEB']\n",
    "red_data.shape"
   ]
  },
  {
   "cell_type": "code",
   "execution_count": 27,
   "metadata": {},
   "outputs": [
    {
     "data": {
      "text/plain": [
       "(6087, 64)"
      ]
     },
     "execution_count": 27,
     "metadata": {},
     "output_type": "execute_result"
    }
   ],
   "source": [
    "# Filtering only the bonds that are issued globaly\n",
    "red_data= red_data[red_data['issue_offered_global']=='Y']\n",
    "red_data.shape"
   ]
  },
  {
   "cell_type": "code",
   "execution_count": 24,
   "metadata": {},
   "outputs": [
    {
     "data": {
      "text/plain": [
       "False    5029\n",
       "True     1058\n",
       "Name: offering_yield, dtype: int64"
      ]
     },
     "execution_count": 24,
     "metadata": {},
     "output_type": "execute_result"
    }
   ],
   "source": [
    "red_data['offering_yield'].isna().value_counts()"
   ]
  },
  {
   "cell_type": "code",
   "execution_count": 25,
   "metadata": {},
   "outputs": [
    {
     "data": {
      "text/plain": [
       "6087"
      ]
     },
     "execution_count": 25,
     "metadata": {},
     "output_type": "execute_result"
    }
   ],
   "source": [
    "red_data['complete_cusip'].nunique()"
   ]
  },
  {
   "cell_type": "code",
   "execution_count": 26,
   "metadata": {},
   "outputs": [
    {
     "name": "stdout",
     "output_type": "stream",
     "text": [
      "6087\n"
     ]
    }
   ],
   "source": [
    "unique_values = red_data['complete_cusip'].astype(str).unique().tolist()\n",
    "print(len(unique_values))"
   ]
  },
  {
   "cell_type": "code",
   "execution_count": 30,
   "metadata": {},
   "outputs": [],
   "source": [
    "with open('cusip_codes_reduced_6k.txt', 'w') as file:\n",
    "    for value in unique_values:\n",
    "        file.write(value + '\\n')"
   ]
  },
  {
   "cell_type": "code",
   "execution_count": 29,
   "metadata": {},
   "outputs": [
    {
     "data": {
      "text/plain": [
       "(6087, 64)"
      ]
     },
     "execution_count": 29,
     "metadata": {},
     "output_type": "execute_result"
    }
   ],
   "source": [
    "red_data.shape"
   ]
  },
  {
   "cell_type": "code",
   "execution_count": 32,
   "metadata": {},
   "outputs": [],
   "source": [
    "# Save the DataFrame as a pickle file\n",
    "# red_data.to_pickle(\"mergent_final_6k.pkl\")"
   ]
  },
  {
   "cell_type": "code",
   "execution_count": 28,
   "metadata": {},
   "outputs": [],
   "source": [
    "# print(tabulate(red_data.head(50), headers='keys', tablefmt='fancy_grid'))"
   ]
  },
  {
   "cell_type": "code",
   "execution_count": null,
   "metadata": {},
   "outputs": [],
   "source": []
  }
 ],
 "metadata": {
  "kernelspec": {
   "display_name": "Python 3",
   "language": "python",
   "name": "python3"
  },
  "language_info": {
   "codemirror_mode": {
    "name": "ipython",
    "version": 3
   },
   "file_extension": ".py",
   "mimetype": "text/x-python",
   "name": "python",
   "nbconvert_exporter": "python",
   "pygments_lexer": "ipython3",
   "version": "3.9.12"
  },
  "orig_nbformat": 4,
  "vscode": {
   "interpreter": {
    "hash": "d9fc3778028711e6e37e368229452690da33195866f5bd804a8d9dd77d97c0c4"
   }
  }
 },
 "nbformat": 4,
 "nbformat_minor": 2
}
